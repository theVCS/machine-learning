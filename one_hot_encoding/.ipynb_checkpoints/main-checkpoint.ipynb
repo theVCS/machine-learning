{
 "cells": [
  {
   "cell_type": "code",
   "execution_count": 12,
   "metadata": {},
   "outputs": [
    {
     "data": {
      "text/plain": [
       "249790.36766292527"
      ]
     },
     "execution_count": 12,
     "metadata": {},
     "output_type": "execute_result"
    }
   ],
   "source": [
    "import pandas as pd\n",
    "import numpy as np\n",
    "from sklearn import linear_model\n",
    "import matplotlib.pyplot as plt\n",
    "import pickle\n",
    "import joblib\n",
    "\n",
    "df = pd.read_csv(\"homeprices.csv\")\n",
    "\n",
    "dummies = pd.get_dummies(df.town)\n",
    "\n",
    "merged = pd.concat([df, dummies], axis=\"columns\")\n",
    "final = merged.drop(['town', 'west windsor'], axis=\"columns\")\n",
    "\n",
    "reg = linear_model.LinearRegression()\n",
    "reg.fit(final[[\"area\", \"monroe township\", \"robinsville\"]], final[\"price\"])\n",
    "\n",
    "reg.predict([[2800,0,1]])\n"
   ]
  }
 ],
 "metadata": {
  "interpreter": {
   "hash": "fe891c9e592bf780402d820d64490eaf7700f53018646db208523a8585c3ebd1"
  },
  "kernelspec": {
   "display_name": "Python 3 (ipykernel)",
   "language": "python",
   "name": "python3"
  },
  "language_info": {
   "codemirror_mode": {
    "name": "ipython",
    "version": 3
   },
   "file_extension": ".py",
   "mimetype": "text/x-python",
   "name": "python",
   "nbconvert_exporter": "python",
   "pygments_lexer": "ipython3",
   "version": "3.9.6"
  }
 },
 "nbformat": 4,
 "nbformat_minor": 2
}
